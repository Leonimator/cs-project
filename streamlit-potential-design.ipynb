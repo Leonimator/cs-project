{
 "cells": [
  {
   "cell_type": "code",
   "execution_count": 25,
   "id": "4c93bd62",
   "metadata": {},
   "outputs": [
    {
     "name": "stdout",
     "output_type": "stream",
     "text": [
      "^C\n"
     ]
    }
   ],
   "source": [
    "!pip install -q streamlit\n",
    "\n",
    "# pip: package mangeer "
   ]
  },
  {
   "cell_type": "code",
   "execution_count": 26,
   "id": "92e33ba4",
   "metadata": {},
   "outputs": [],
   "source": [
    "!pip install -q pandas\n",
    "!pip install -q numpy\n",
    "!pip install -q matplotlib"
   ]
  },
  {
   "cell_type": "code",
   "execution_count": null,
   "id": "1990fae0",
   "metadata": {},
   "outputs": [],
   "source": [
    "%%writefile newapp.py\n",
    "# Required Libraries\n",
    "import streamlit as st\n",
    "import pandas as pd\n",
    "import numpy as np\n",
    "import matplotlib.pyplot as plt\n",
    "\n",
    "# Tab Title\n",
    "st.set_page_config(page_title=\"BullBear\", page_icon=\":computer:\")\n",
    "\n",
    "# Title & Intro\n",
    "with st.container():\n",
    "  st.title(\"Hello, Investors :wave:\")\n",
    "  st.write(\"\"\"\n",
    "  Welcome to our BullBear investment webpage for beginners! \n",
    "  Here's a simple webpage which you can easily track the returns of the stock that you choose.\n",
    "  \"\"\")\n",
    "\n",
    "# Dropdown menu\n",
    "st.subheader(\"Your stock choice\")\n",
    "stocks = [\"Stock1\", \"Stock2\", \"Stock3\", \"Stock4\", \"Others\"]\n",
    "stock_choice = st.selectbox(\"Which stock do you want to choose?\", stocks)\n",
    "\n",
    "# Add a short explaination for the chosen stock in the dropdown menu \n",
    "if stock_choice == \"Stock1\":\n",
    "    st.write(\"Stock1 is an investment to the field of AI.\")\n",
    "elif stock_choice == \"Stock2\":\n",
    "    st.write(\"Stock2 is an investment to the field of Biotech.\")\n",
    "elif stock_choice == \"Stock3\":\n",
    "    st.write(\"Stock3 is an investment to the field of Technology.\")\n",
    "elif stock_choice == \"Stock4\":\n",
    "    st.write(\"Stock4 is an investment to the field of Fintech.\")\n",
    "else:\n",
    "    st.write(\"That's a nice stock!\")\n",
    "\n",
    "#Stock Name Input if this stock cannot be found in the dropdown menu\n",
    "st.subheader(\"Stock Name Input\")\n",
    "stock_name = st.text_input(\"Enter stock name\", placeholder=\"Enter the stock name here...\")\n",
    "\n",
    "#Multiselect/Filters\n",
    "st.subheader(\"Filters: Choose the ratios\")\n",
    "ratios = [\n",
    "    \"Ratio1\",\n",
    "    \"Ratio2\",\n",
    "    \"Ratio3\",\n",
    "    \"Ratio4\",\n",
    "]\n",
    "selected_ratios = st.multiselect(\"Select your ratios:\", ratios) \n",
    "\n",
    "\n"
   ]
  },
  {
   "cell_type": "code",
   "execution_count": null,
   "id": "d9bd17c0",
   "metadata": {},
   "outputs": [],
   "source": [
    "!streamlit run newapp.py"
   ]
  },
  {
   "cell_type": "code",
   "execution_count": null,
   "id": "483cef5a",
   "metadata": {},
   "outputs": [],
   "source": []
  },
  {
   "cell_type": "code",
   "execution_count": null,
   "id": "2f120a2d",
   "metadata": {},
   "outputs": [],
   "source": []
  },
  {
   "cell_type": "code",
   "execution_count": null,
   "id": "2e401b8c",
   "metadata": {},
   "outputs": [],
   "source": []
  }
 ],
 "metadata": {
  "kernelspec": {
   "display_name": "Python 3 (ipykernel)",
   "language": "python",
   "name": "python3"
  },
  "language_info": {
   "codemirror_mode": {
    "name": "ipython",
    "version": 3
   },
   "file_extension": ".py",
   "mimetype": "text/x-python",
   "name": "python",
   "nbconvert_exporter": "python",
   "pygments_lexer": "ipython3",
   "version": "3.11.4"
  }
 },
 "nbformat": 4,
 "nbformat_minor": 5
}
